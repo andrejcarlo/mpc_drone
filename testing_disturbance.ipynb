{
 "cells": [
  {
   "cell_type": "code",
   "execution_count": 1,
   "metadata": {},
   "outputs": [],
   "source": [
    "import numpy as np\n",
    "from tqdm import tqdm\n",
    "import matplotlib.pyplot as plt\n",
    "import scipy.linalg as la\n",
    "\n",
    "from visualise import (\n",
    "    plot_3d_control,\n",
    "    plot_action_history,\n",
    "    plot_state_history,\n",
    "    plot_terminal_cost_lyupanov,\n",
    ")\n",
    "\n",
    "import terminal_set\n",
    "from mpc_with_ots import Controller\n",
    "from main_disturbance import simulate\n"
   ]
  },
  {
   "cell_type": "code",
   "execution_count": 17,
   "metadata": {},
   "outputs": [
    {
     "name": "stdout",
     "output_type": "stream",
     "text": [
      "Initial state is  [0. 0. 0. 0. 0. 0. 0. 0. 0. 0. 0. 0.]\n",
      "Target state to reach is  [0.5 0.  0. ]\n"
     ]
    },
    {
     "ename": "ValueError",
     "evalue": "Invalid dimensions (3,) for Parameter value.",
     "output_type": "error",
     "traceback": [
      "\u001b[0;31m---------------------------------------------------------------------------\u001b[0m",
      "\u001b[0;31mValueError\u001b[0m                                Traceback (most recent call last)",
      "Cell \u001b[0;32mIn[17], line 21\u001b[0m\n\u001b[1;32m     13\u001b[0m ctrl \u001b[39m=\u001b[39m Controller(\n\u001b[1;32m     14\u001b[0m     mpc_horizon\u001b[39m=\u001b[39mN,\n\u001b[1;32m     15\u001b[0m     timestep_mpc_stages\u001b[39m=\u001b[39mdt,\n\u001b[1;32m     16\u001b[0m     control_type\u001b[39m=\u001b[39m\u001b[39m'\u001b[39m\u001b[39mmpc\u001b[39m\u001b[39m'\u001b[39m \u001b[39m# or 'mpc'\u001b[39;00m\n\u001b[1;32m     17\u001b[0m )\n\u001b[1;32m     19\u001b[0m ctrl\u001b[39m.\u001b[39md \u001b[39m=\u001b[39m np\u001b[39m.\u001b[39marray([\u001b[39m0.0\u001b[39m, \u001b[39m0.1\u001b[39m, \u001b[39m0.0\u001b[39m])\n\u001b[0;32m---> 21\u001b[0m (x_target, u_target) \u001b[39m=\u001b[39m ctrl\u001b[39m.\u001b[39;49mcomputeOTS(y_target)\n\u001b[1;32m     23\u001b[0m \u001b[39m# this also rebuilds mpc problem to include the new constraint\u001b[39;00m\n\u001b[1;32m     24\u001b[0m \u001b[39m# Q: Can I have both of these methods working together?\u001b[39;00m\n\u001b[1;32m     25\u001b[0m \u001b[39m# ctrl.c_level = terminal_set.calculate_c(ctrl, x_target) # this enables t set\u001b[39;00m\n\u001b[0;32m   (...)\u001b[0m\n\u001b[1;32m     40\u001b[0m \u001b[39m# print(x_target)\u001b[39;00m\n\u001b[1;32m     41\u001b[0m \u001b[39m# print(u_target)\u001b[39;00m\n",
      "File \u001b[0;32m~/Documents/uni/sc4232312_mpc/mpc_drone/mpc_with_ots.py:356\u001b[0m, in \u001b[0;36mController.computeOTS\u001b[0;34m(self, y_ref, d_hat)\u001b[0m\n\u001b[1;32m    354\u001b[0m \u001b[39mdef\u001b[39;00m \u001b[39mcomputeOTS\u001b[39m(\u001b[39mself\u001b[39m, y_ref, d_hat\u001b[39m=\u001b[39mnp\u001b[39m.\u001b[39mzeros(\u001b[39m6\u001b[39m)):\n\u001b[1;32m    355\u001b[0m     \u001b[39m## Run OTS here\u001b[39;00m\n\u001b[0;32m--> 356\u001b[0m     \u001b[39mself\u001b[39;49m\u001b[39m.\u001b[39;49mproblem_ots\u001b[39m.\u001b[39;49mparam_dict[\u001b[39m\"\u001b[39;49m\u001b[39my_ref\u001b[39;49m\u001b[39m\"\u001b[39;49m]\u001b[39m.\u001b[39;49mvalue \u001b[39m=\u001b[39m y_ref\n\u001b[1;32m    357\u001b[0m     \u001b[39mself\u001b[39m\u001b[39m.\u001b[39mproblem_ots\u001b[39m.\u001b[39mparam_dict[\u001b[39m\"\u001b[39m\u001b[39md_hat\u001b[39m\u001b[39m\"\u001b[39m]\u001b[39m.\u001b[39mvalue \u001b[39m=\u001b[39m d_hat\n\u001b[1;32m    359\u001b[0m     \u001b[39mself\u001b[39m\u001b[39m.\u001b[39mproblem_ots\u001b[39m.\u001b[39msolve(reoptimize\u001b[39m=\u001b[39m\u001b[39mTrue\u001b[39;00m, solver\u001b[39m=\u001b[39mcp\u001b[39m.\u001b[39mGUROBI, verbose\u001b[39m=\u001b[39m\u001b[39mFalse\u001b[39;00m)\n",
      "File \u001b[0;32m~/opt/miniconda3/envs/mpc_drone/lib/python3.8/site-packages/cvxpy/expressions/constants/parameter.py:87\u001b[0m, in \u001b[0;36mParameter.value\u001b[0;34m(self, val)\u001b[0m\n\u001b[1;32m     85\u001b[0m \u001b[39m@value\u001b[39m\u001b[39m.\u001b[39msetter\n\u001b[1;32m     86\u001b[0m \u001b[39mdef\u001b[39;00m \u001b[39mvalue\u001b[39m(\u001b[39mself\u001b[39m, val):\n\u001b[0;32m---> 87\u001b[0m     \u001b[39mself\u001b[39m\u001b[39m.\u001b[39m_value \u001b[39m=\u001b[39m \u001b[39mself\u001b[39;49m\u001b[39m.\u001b[39;49m_validate_value(val)\n",
      "File \u001b[0;32m~/opt/miniconda3/envs/mpc_drone/lib/python3.8/site-packages/cvxpy/expressions/leaf.py:391\u001b[0m, in \u001b[0;36mLeaf._validate_value\u001b[0;34m(self, val)\u001b[0m\n\u001b[1;32m    389\u001b[0m val \u001b[39m=\u001b[39m intf\u001b[39m.\u001b[39mconvert(val)\n\u001b[1;32m    390\u001b[0m \u001b[39mif\u001b[39;00m intf\u001b[39m.\u001b[39mshape(val) \u001b[39m!=\u001b[39m \u001b[39mself\u001b[39m\u001b[39m.\u001b[39mshape:\n\u001b[0;32m--> 391\u001b[0m     \u001b[39mraise\u001b[39;00m \u001b[39mValueError\u001b[39;00m(\n\u001b[1;32m    392\u001b[0m         \u001b[39m\"\u001b[39m\u001b[39mInvalid dimensions \u001b[39m\u001b[39m%s\u001b[39;00m\u001b[39m for \u001b[39m\u001b[39m%s\u001b[39;00m\u001b[39m value.\u001b[39m\u001b[39m\"\u001b[39m \u001b[39m%\u001b[39m\n\u001b[1;32m    393\u001b[0m         (intf\u001b[39m.\u001b[39mshape(val), \u001b[39mself\u001b[39m\u001b[39m.\u001b[39m\u001b[39m__class__\u001b[39m\u001b[39m.\u001b[39m\u001b[39m__name__\u001b[39m)\n\u001b[1;32m    394\u001b[0m     )\n\u001b[1;32m    395\u001b[0m projection \u001b[39m=\u001b[39m \u001b[39mself\u001b[39m\u001b[39m.\u001b[39mproject(val)\n\u001b[1;32m    396\u001b[0m \u001b[39m# ^ might be a numpy array, or sparse scipy matrix.\u001b[39;00m\n",
      "\u001b[0;31mValueError\u001b[0m: Invalid dimensions (3,) for Parameter value."
     ]
    }
   ],
   "source": [
    "dt = 0.10  # Sampling period\n",
    "N = 20 # MPC Horizon\n",
    "T = 100  # Duration of simulation\n",
    "x_init = np.zeros(12)  # Initial conditions\n",
    "y_target = np.zeros(3)  # State to reach\n",
    "y_target[0:3] = np.array([0.5, 0.0, 0.0])\n",
    "# y_target[3:6] = np.array([0.0, 0.00, 0.0])\n",
    "\n",
    "print(\"Initial state is \", x_init)\n",
    "print(\"Target state to reach is \", y_target)\n",
    "\n",
    " # Controller\n",
    "ctrl = Controller(\n",
    "    mpc_horizon=N,\n",
    "    timestep_mpc_stages=dt,\n",
    "    control_type='mpc' # or 'mpc'\n",
    ")\n",
    "\n",
    "ctrl.d = np.array([0.0, 0.1, 0.0])\n",
    "\n",
    "(x_target, u_target) = ctrl.computeOTS(y_target)\n",
    "\n",
    "# this also rebuilds mpc problem to include the new constraint\n",
    "# Q: Can I have both of these methods working together?\n",
    "# ctrl.c_level = terminal_set.calculate_c(ctrl, x_target) # this enables t set\n",
    "# ctrl.beta = 0.1 # this enables terminal cost\n",
    "\n",
    "\n",
    "# print(\"C is \", ctrl.c_level)\n",
    "\n",
    "# states, inputs, plans, timesteps, Vf, l, outputs, disturbance_est= simulate(\n",
    "#     controller=ctrl,\n",
    "#     x_init=x_init,\n",
    "#     y_target=y_target,\n",
    "#     T=T,\n",
    "#     plot=True,\n",
    "#     plots_suffix=\"_disturbance\"\n",
    "#     )\n",
    "\n",
    "# print(x_target)\n",
    "# print(u_target)\n"
   ]
  },
  {
   "cell_type": "code",
   "execution_count": 5,
   "metadata": {},
   "outputs": [
    {
     "data": {
      "text/plain": [
       "<matplotlib.legend.Legend at 0x7fb030cb0760>"
      ]
     },
     "execution_count": 5,
     "metadata": {},
     "output_type": "execute_result"
    },
    {
     "data": {
      "image/png": "[encoded data removed]",
      "text/plain": [
       "<Figure size 640x480 with 1 Axes>"
      ]
     },
     "metadata": {},
     "output_type": "display_data"
    }
   ],
   "source": [
    "disturbance_est[:, 100]\n",
    "\n",
    "plt.axhline(ctrl.d[1], color='b', label='constant disturbance')\n",
    "plt.plot(range(T), disturbance_est[1, :-1], color='r', label='estimate disturbance')\n",
    "plt.legend()"
   ]
  },
  {
   "cell_type": "code",
   "execution_count": 9,
   "metadata": {},
   "outputs": [],
   "source": [
    "y_target = np.zeros(6)  # State to reach\n",
    "y_target[0:3] = np.array([0.5, 0.0, 0.0])\n",
    "y_target[3:6] = np.array()\n",
    "\n",
    "# self.C = np.hstack(\n",
    "#         (np.identity(6), np.zeros((6, 6)))\n",
    "#     )  # only interested in xyz, xyz_dot\n",
    "\n",
    "mat1 = np.concatenate((np.identity(12) - ctrl.A, -ctrl.B), axis=1)\n",
    "mat2 = np.concatenate((ctrl.C, np.zeros((6, 4))), axis=1)\n",
    "A_cstr = np.concatenate((mat1, mat2), axis=0)\n",
    "b_cstr = np.hstack((np.zeros(12), (y_target)))"
   ]
  },
  {
   "cell_type": "code",
   "execution_count": 10,
   "metadata": {},
   "outputs": [],
   "source": [
    "xu_r = np.hstack((x_init, np.array([0.0, 0.0, 0.0, 0.0])))"
   ]
  },
  {
   "cell_type": "code",
   "execution_count": 11,
   "metadata": {},
   "outputs": [
    {
     "name": "stdout",
     "output_type": "stream",
     "text": [
      "array([0., 0., 0., 0., 0., 0., 0., 0., 0., 0., 0., 0., 0., 0., 0., 0., 0.,\n",
      "       0.])\n",
      "array([0. , 0. , 0. , 0. , 0. , 0. , 0. , 0. , 0. , 0. , 0. , 0. , 0.5,\n",
      "       0. , 0. , 0. , 0. , 0. ])\n"
     ]
    }
   ],
   "source": [
    "from pprint import pprint\n",
    "pprint((A_cstr @  xu_r))\n",
    "pprint(b_cstr)"
   ]
  },
  {
   "cell_type": "code",
   "execution_count": 4,
   "metadata": {},
   "outputs": [],
   "source": [
    "C = np.zeros((6, 12))\n",
    "C[:3, :3] = np.identity(3)"
   ]
  },
  {
   "cell_type": "code",
   "execution_count": 5,
   "metadata": {},
   "outputs": [
    {
     "data": {
      "text/plain": [
       "array([[1., 0., 0., 0., 0., 0., 0., 0., 0., 0., 0., 0.],\n",
       "       [0., 1., 0., 0., 0., 0., 0., 0., 0., 0., 0., 0.],\n",
       "       [0., 0., 1., 0., 0., 0., 0., 0., 0., 0., 0., 0.],\n",
       "       [0., 0., 0., 0., 0., 0., 0., 0., 0., 0., 0., 0.],\n",
       "       [0., 0., 0., 0., 0., 0., 0., 0., 0., 0., 0., 0.],\n",
       "       [0., 0., 0., 0., 0., 0., 0., 0., 0., 0., 0., 0.]])"
      ]
     },
     "execution_count": 5,
     "metadata": {},
     "output_type": "execute_result"
    }
   ],
   "source": [
    "C"
   ]
  },
  {
   "cell_type": "code",
   "execution_count": null,
   "metadata": {},
   "outputs": [],
   "source": []
  }
 ],
 "metadata": {
  "kernelspec": {
   "display_name": "mpc_drone",
   "language": "python",
   "name": "python3"
  },
  "language_info": {
   "codemirror_mode": {
    "name": "ipython",
    "version": 3
   },
   "file_extension": ".py",
   "mimetype": "text/x-python",
   "name": "python",
   "nbconvert_exporter": "python",
   "pygments_lexer": "ipython3",
   "version": "3.8.16"
  },
  "orig_nbformat": 4,
  "vscode": {
   "interpreter": {
    "hash": "1c2ba61a4253e36410fce435596dadbfbd8574225b94fcb60ce56766af5bc847"
   }
  }
 },
 "nbformat": 4,
 "nbformat_minor": 2
}
